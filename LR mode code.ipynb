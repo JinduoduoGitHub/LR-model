{
 "cells": [
  {
   "cell_type": "code",
   "execution_count": null,
   "metadata": {},
   "outputs": [],
   "source": [
    "import pandas as pd\n",
    "from sklearn.datasets import load_iris\n",
    "from sklearn.linear_model import LogisticRegression\n",
    "import pandas as pd\n",
    "from sklearn.model_selection import train_test_split\n",
    "from sklearn import datasets\n",
    "import numpy as np\n",
    "import random\n",
    "from sklearn.utils import shuffle\n",
    "import pandas as pd\n",
    "import seaborn as sns\n",
    "from sklearn import metrics\n",
    "import pandas as pd\n",
    "from sklearn.model_selection import train_test_split\n",
    "from sklearn import datasets\n",
    "import numpy as np\n",
    "import random\n",
    "from sklearn.utils import shuffle\n",
    "from sklearn.metrics import accuracy_score,precision_score, recall_score,f1_score,cohen_kappa_score\n",
    "from sklearn.metrics import precision_recall_curve\n",
    "from sklearn.metrics import roc_curve, auc\n",
    "\n",
    "datax=pd.read_csv (\"Data.1.csv\",sep=\",\",encoding=\"gbk\")\n",
    "datax=shuffle(datax)\n",
    "datax,datay=datax.iloc[:,1:],datax.iloc[:,0]\n",
    "datax=datax\n",
    "datax"
   ]
  },
  {
   "cell_type": "code",
   "execution_count": null,
   "metadata": {},
   "outputs": [],
   "source": [
    "x_train,x_test,y_train,y_test=train_test_split(datax,datay,test_size=0.3,random_state=7)\n",
    "mean=x_train.mean(axis=0) \n",
    "mean\n",
    "std=x_train.std(axis=0)\n",
    "std\n",
    "x_train -= mean\n",
    "x_train /= std\n",
    "x_test -= mean\n",
    "x_test /= std\n",
    "datax =datax-mean\n",
    "datax/=std\n",
    "print(x_train)\n"
   ]
  },
  {
   "cell_type": "code",
   "execution_count": null,
   "metadata": {},
   "outputs": [],
   "source": [
    "clf = LogisticRegression(penalty='l2',random_state=0, solver='sag',C=0.5,\n",
    "...                          multi_class='multinomial').fit(x_train, y_train)\n",
    "\n",
    "\n",
    "clf.coef_\n",
    "clf.intercept_\n",
    "p=clf.predict_proba(x_test)\n",
    "output=pd.DataFrame(p)\n",
    "LR= np.array(output[1])\n",
    "prd=clf.predict(x_test)\n",
    "print(clf.coef_)\n",
    "print(clf.intercept_)\n",
    "import joblib\n",
    "joblib.dump(clf, \"Data.1.m\")"
   ]
  },
  {
   "cell_type": "code",
   "execution_count": null,
   "metadata": {},
   "outputs": [],
   "source": [
    "sns.set_style(\"white\")\n",
    "precision2, recall2, pr_thresh2 = precision_recall_curve(y_test,LR)\n",
    "plt.figure(figsize=(20.0,20.0))\n",
    "fpr2, tpr2, thresholds2 = roc_curve(y_test,LR)\n",
    "roc_auc2 = auc(fpr2, tpr2)\n",
    "plt.figure()\n",
    "plt.subplot(1, 2, 1)\n",
    "lw = 2\n",
    "plt.plot(fpr2, tpr2, color='b', lw=2, label='LR (AUC = %0.2f)' % roc_auc2)\n",
    "plt.plot([0, 1], [0, 1], color='navy', lw=1, linestyle='--',label='参考线')\n",
    "plt.fill_between(fpr2, tpr2, step='post', alpha=0.2, color='gray')\n",
    "plt.xlim([-0.02,1.0])\n",
    "plt.xticks([0,0.2,0.4,0.6,0.8,1.0])\n",
    "plt.ylim([0.0, 1.01])\n",
    "plt.xlabel('1-特异度',fontsize='10',family='simsun')\n",
    "plt.ylabel('敏感性',fontsize='10',family='simsun')\n",
    "font={'family':'simsun',\n",
    "     'size':'10'}\n",
    "plt.legend(loc=\"lower right\",fontsize='7',prop=font)                                                          \n",
    "plt.tight_layout()\n",
    "plt.xticks(fontsize='10',family='simsun')\n",
    "plt.yticks(fontsize='10',family='simsun')\n",
    "fpr2"
   ]
  },
  {
   "cell_type": "code",
   "execution_count": null,
   "metadata": {},
   "outputs": [],
   "source": [
    "tp = sum((y_test == 1) & ( prd == 1))\n",
    "fp = sum((y_test == 0) & ( prd== 1))\n",
    "fn = sum((y_test == 1) & ( prd == 0))\n",
    "tn = sum((y_test== 0) & ( prd == 0))\n",
    "print(tp)\n",
    "print(fp)\n",
    "print(fn)\n",
    "print(tn)"
   ]
  }
 ],
 "metadata": {
  "kernelspec": {
   "display_name": "Python 3",
   "language": "python",
   "name": "python3"
  },
  "language_info": {
   "codemirror_mode": {
    "name": "ipython",
    "version": 3
   },
   "file_extension": ".py",
   "mimetype": "text/x-python",
   "name": "python",
   "nbconvert_exporter": "python",
   "pygments_lexer": "ipython3",
   "version": "3.6.5"
  }
 },
 "nbformat": 4,
 "nbformat_minor": 2
}
